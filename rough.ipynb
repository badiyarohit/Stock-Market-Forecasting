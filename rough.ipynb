{
 "cells": [
  {
   "cell_type": "code",
   "execution_count": null,
   "id": "daf2b03e",
   "metadata": {},
   "outputs": [],
   "source": [
    "#forecasting\n",
    "Data_for_prediction=Data_Normalised_Dictionary['Series'][-window_size-Validation_size:]\n",
    "dataset=windowed_dataset(Data_for_prediction,1)\n",
    "result_forecast=model.predict(dataset).flatten()\n",
    "    \n",
    "#figure\n",
    "fig=plt.figure(figsize=(10, 6))\n",
    "fig.suptitle('Loss vs Epoch Number')\n",
    "plt.plot(Loss_List)\n",
    "plt.ylabel('Loss')\n",
    "plt.xlabel('Epoch Number')\n",
    "\n",
    "plt.legend(['Predicted','Actual'],fontsize=15)\n",
    "plt.show()inc_dec_actual=Data_Dictionary['Data_Validation'][1:]-Data_Dictionary['Data_Validation'][:-1]>0\n",
    "inc_dec_actual=inc_dec_actual.astype('int')\n",
    "inc_dec_predictaed=Data_Dictionary['Data_Validation'][1:]-result_forecast[:-1]>0\n",
    "inc_dec_predictaed=inc_dec_predictaed.astype('int')\n",
    "TP = np.count_nonzero(inc_dec_predictaed * inc_dec_actual)\n",
    "TN = np.count_nonzero((inc_dec_predictaed - 1) * (inc_dec_actual - 1))\n",
    "FP = np.count_nonzero(inc_dec_predictaed * (inc_dec_actual - 1))\n",
    "FN = np.count_nonzero((inc_dec_predictaed - 1) * inc_dec_actual)precision = TP / (TP + FP)\n",
    "recall = TP / (TP + FN)\n",
    "f1 = 2 * precision * recall / (precision + recall)\n",
    "accurcy=(TP+TN)/(TP+TN+FP+FN)fig, axs = plt.subplots(1, 1, constrained_layout=True,figsize=(5,5))\n",
    "plt.title('Confusion Matrix', fontsize=18)\n",
    "\n",
    "axs.matshow([[TP,TN],[FP,FN]],cmap=plt.cm.Blues, alpha=0.3)\n",
    "axs.ticklabel_format()\n",
    "plt.xlabel('Predictions', fontsize=15)\n",
    "axs.text(1,1,f'TN({TN})')\n",
    "axs.text(1,0,f'FP({FP})')\n",
    "axs.text(0,0,f'TP({TP})')\n",
    "axs.text(0,1,f'FN({FN})')\n",
    "plt.ylabel('Actuals', fontsize=15)\n",
    "plt.show()"
   ]
  }
 ],
 "metadata": {
  "kernelspec": {
   "display_name": "Python 3",
   "language": "python",
   "name": "python3"
  },
  "language_info": {
   "codemirror_mode": {
    "name": "ipython",
    "version": 3
   },
   "file_extension": ".py",
   "mimetype": "text/x-python",
   "name": "python",
   "nbconvert_exporter": "python",
   "pygments_lexer": "ipython3",
   "version": "3.8.8"
  }
 },
 "nbformat": 4,
 "nbformat_minor": 5
}
