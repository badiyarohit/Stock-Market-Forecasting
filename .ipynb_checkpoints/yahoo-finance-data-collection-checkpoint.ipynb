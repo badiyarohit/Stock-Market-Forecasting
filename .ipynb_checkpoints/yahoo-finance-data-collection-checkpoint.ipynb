{
 "cells": [
  {
   "cell_type": "code",
   "execution_count": 18,
   "id": "60b41b19",
   "metadata": {},
   "outputs": [],
   "source": [
    "%matplotlib notebook\n",
    "import yfinance as yahooFinance\n",
    "# Here We are getting Facebook financial information\n",
    "# We need to pass FB as argument for that\n",
    "Information = yahooFinance.Ticker(\"BANKINDIA.NS\")\n",
    "# whole python dictionary is printed here\n",
    "#print(Information.info['logo_url'])\n"
   ]
  },
  {
   "cell_type": "code",
   "execution_count": 22,
   "id": "4553c76f",
   "metadata": {},
   "outputs": [],
   "source": [
    "df=Information.history(period=\"1mo\")"
   ]
  },
  {
   "cell_type": "code",
   "execution_count": null,
   "id": "21f81685",
   "metadata": {
    "scrolled": false
   },
   "outputs": [],
   "source": [
    "Information.info.keys()"
   ]
  },
  {
   "cell_type": "code",
   "execution_count": null,
   "id": "2ae689b0",
   "metadata": {},
   "outputs": [],
   "source": [
    "import matplotlib.pyplot as plt"
   ]
  },
  {
   "cell_type": "code",
   "execution_count": null,
   "id": "29a7e303",
   "metadata": {},
   "outputs": [],
   "source": []
  },
  {
   "cell_type": "code",
   "execution_count": null,
   "id": "3eb5f940",
   "metadata": {},
   "outputs": [],
   "source": [
    "plo.update()"
   ]
  },
  {
   "cell_type": "code",
   "execution_count": null,
   "id": "6f967cdd",
   "metadata": {},
   "outputs": [],
   "source": []
  },
  {
   "cell_type": "code",
   "execution_count": null,
   "id": "ec94e1a6",
   "metadata": {},
   "outputs": [],
   "source": [
    "import matplotlib.pyplot as plt"
   ]
  },
  {
   "cell_type": "code",
   "execution_count": null,
   "id": "a0116d5b",
   "metadata": {},
   "outputs": [],
   "source": [
    "mpl.get_backend()"
   ]
  },
  {
   "cell_type": "code",
   "execution_count": null,
   "id": "149c6804",
   "metadata": {},
   "outputs": [],
   "source": [
    "import numpy as np"
   ]
  },
  {
   "cell_type": "code",
   "execution_count": null,
   "id": "43e1d1e5",
   "metadata": {},
   "outputs": [],
   "source": [
    "ar=np.array(Information.history(period=\"max\")[['Open']])\n",
    "df=Information.history(period=\"max\")"
   ]
  },
  {
   "cell_type": "code",
   "execution_count": null,
   "id": "8bb4b3f2",
   "metadata": {},
   "outputs": [],
   "source": [
    "df"
   ]
  },
  {
   "cell_type": "code",
   "execution_count": null,
   "id": "c59126b8",
   "metadata": {},
   "outputs": [],
   "source": [
    "ar.shape"
   ]
  },
  {
   "cell_type": "code",
   "execution_count": null,
   "id": "bb503265",
   "metadata": {},
   "outputs": [],
   "source": []
  },
  {
   "cell_type": "code",
   "execution_count": null,
   "id": "4b6c54ae",
   "metadata": {},
   "outputs": [],
   "source": [
    "plt.plot(df[['Open']][:100])\n",
    "#plt.plot(df[['High']][:100])\n",
    "#plt.plot(df[['Low']][:100])\n",
    "#plt.plot(df[['Close']][:100])\n"
   ]
  },
  {
   "cell_type": "code",
   "execution_count": null,
   "id": "4f48bdcc",
   "metadata": {},
   "outputs": [],
   "source": [
    "ar=ar.reshape((1,6332))[0]"
   ]
  },
  {
   "cell_type": "code",
   "execution_count": null,
   "id": "f3e17f8a",
   "metadata": {},
   "outputs": [],
   "source": [
    "ar"
   ]
  },
  {
   "cell_type": "code",
   "execution_count": null,
   "id": "25d7b997",
   "metadata": {},
   "outputs": [],
   "source": [
    "def windowed_dataset(series, window_size, batch_size, shuffle_buffer):\n",
    "    dataset = tf.data.Dataset.from_tensor_slices(series)\n",
    "    dataset = dataset.window(window_size + 1, shift=1, drop_remainder=True)\n",
    "    dataset = dataset.flat_map(lambda window: window.batch(window_size + 1))\n",
    "    dataset = dataset.shuffle(shuffle_buffer).map(lambda window: (window[:-1], window[-1]))\n",
    "    dataset = dataset.batch(batch_size).prefetch(1)\n",
    "    return dataset\n",
    "dataset=windowed_dataset(ar,60,20,1)"
   ]
  },
  {
   "cell_type": "code",
   "execution_count": null,
   "id": "769c20ad",
   "metadata": {},
   "outputs": [],
   "source": [
    "tf.keras.backend.clear_session()\n",
    "tf.random.set_seed(51)\n",
    "np.random.seed(51)\n",
    "\n",
    "train_set = windowed_dataset(x_train, window_size, batch_size=128, shuffle_buffer=shuffle_buffer_size)\n",
    "\n",
    "model = tf.keras.models.Sequential([\n",
    "  tf.keras.layers.Lambda(lambda x: tf.expand_dims(x, axis=-1),\n",
    "                      input_shape=[None]),\n",
    "  tf.keras.layers.SimpleRNN(40, return_sequences=True),\n",
    "  tf.keras.layers.SimpleRNN(40),\n",
    "  tf.keras.layers.Dense(1),\n",
    "  tf.keras.layers.Lambda(lambda x: x * 100.0)\n",
    "])\n",
    "\n",
    "lr_schedule = tf.keras.callbacks.LearningRateScheduler(\n",
    "    lambda epoch: 1e-8 * 10**(epoch / 20))\n",
    "optimizer = tf.keras.optimizers.SGD(lr=1e-8, momentum=0.9)\n",
    "model.compile(loss=tf.keras.losses.Huber(),\n",
    "              optimizer=optimizer,\n",
    "              metrics=[\"mae\"])\n",
    "history = model.fit(train_set, epochs=50, callbacks=[lr_schedule])"
   ]
  },
  {
   "cell_type": "code",
   "execution_count": null,
   "id": "155160c3",
   "metadata": {},
   "outputs": [],
   "source": []
  },
  {
   "cell_type": "code",
   "execution_count": 21,
   "id": "f9cd058d",
   "metadata": {},
   "outputs": [],
   "source": [
    "import pandas as pd"
   ]
  },
  {
   "cell_type": "code",
   "execution_count": 28,
   "id": "f4f7a4bd",
   "metadata": {},
   "outputs": [],
   "source": [
    "df.to_excel('sheet.xlsx')"
   ]
  },
  {
   "cell_type": "code",
   "execution_count": null,
   "id": "b2a470fc",
   "metadata": {},
   "outputs": [],
   "source": []
  }
 ],
 "metadata": {
  "kernelspec": {
   "display_name": "Python 3",
   "language": "python",
   "name": "python3"
  },
  "language_info": {
   "codemirror_mode": {
    "name": "ipython",
    "version": 3
   },
   "file_extension": ".py",
   "mimetype": "text/x-python",
   "name": "python",
   "nbconvert_exporter": "python",
   "pygments_lexer": "ipython3",
   "version": "3.8.8"
  }
 },
 "nbformat": 4,
 "nbformat_minor": 5
}
