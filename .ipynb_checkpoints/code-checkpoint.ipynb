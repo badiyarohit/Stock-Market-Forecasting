{
 "cells": [
  {
   "cell_type": "markdown",
   "id": "8c78c3f4",
   "metadata": {
    "executionInfo": {
     "elapsed": 740,
     "status": "ok",
     "timestamp": 1660981157402,
     "user": {
      "displayName": "Ritik Kumar Badiya",
      "userId": "18348089100187237543"
     },
     "user_tz": -330
    },
    "id": "8c78c3f4"
   },
   "source": [
    "## Importing Modules"
   ]
  },
  {
   "cell_type": "code",
   "execution_count": null,
   "id": "b6fdb189",
   "metadata": {
    "id": "b6fdb189"
   },
   "outputs": [],
   "source": [
    "#pip install yfinance\n"
   ]
  },
  {
   "cell_type": "code",
   "execution_count": null,
   "id": "0a626d83",
   "metadata": {
    "executionInfo": {
     "elapsed": 2832,
     "status": "ok",
     "timestamp": 1661241163777,
     "user": {
      "displayName": "Ritik Kumar Badiya",
      "userId": "18348089100187237543"
     },
     "user_tz": -330
    },
    "id": "0a626d83"
   },
   "outputs": [],
   "source": [
    "import json\n",
    "import pandas as pd\n",
    "import numpy as np\n",
    "import requests\n",
    "from datetime import datetime\n",
    "import matplotlib.pyplot as plt\n",
    "import tensorflow as tf\n",
    "import yfinance as yahooFinance\n",
    "from keras.utils.vis_utils import plot_model\n",
    "from sklearn.preprocessing import MinMaxScaler\n",
    "from tensorflow.keras.layers import *"
   ]
  },
  {
   "cell_type": "markdown",
   "id": "18ac8b0e",
   "metadata": {
    "executionInfo": {
     "elapsed": 6,
     "status": "ok",
     "timestamp": 1660981158163,
     "user": {
      "displayName": "Ritik Kumar Badiya",
      "userId": "18348089100187237543"
     },
     "user_tz": -330
    },
    "id": "18ac8b0e"
   },
   "source": [
    "## Data Preprocessing"
   ]
  },
  {
   "cell_type": "markdown",
   "id": "ce636124",
   "metadata": {
    "executionInfo": {
     "elapsed": 6,
     "status": "ok",
     "timestamp": 1660981158164,
     "user": {
      "displayName": "Ritik Kumar Badiya",
      "userId": "18348089100187237543"
     },
     "user_tz": -330
    },
    "id": "ce636124"
   },
   "source": [
    "### Raw Data From Yahoofinance"
   ]
  },
  {
   "cell_type": "code",
   "execution_count": null,
   "id": "ad3e503e",
   "metadata": {
    "colab": {
     "base_uri": "https://localhost:8080/",
     "height": 394
    },
    "executionInfo": {
     "elapsed": 3238,
     "status": "ok",
     "timestamp": 1661241167010,
     "user": {
      "displayName": "Ritik Kumar Badiya",
      "userId": "18348089100187237543"
     },
     "user_tz": -330
    },
    "id": "ad3e503e",
    "outputId": "97a8bf0b-e508-478e-f39d-9240a9004613"
   },
   "outputs": [],
   "source": [
    "Ticker_Of_Firm='GAIL.NS'\n",
    "Information = yahooFinance.Ticker(Ticker_Of_Firm)\n",
    "Name_Of_Firm=Information.info['shortName']\n",
    "df=Information.history(period='max')\n",
    "df.head(10)"
   ]
  },
  {
   "cell_type": "markdown",
   "id": "d68cc00c",
   "metadata": {
    "id": "d68cc00c"
   },
   "source": [
    "### Graphs\n"
   ]
  },
  {
   "cell_type": "code",
   "execution_count": null,
   "id": "cf48a058",
   "metadata": {
    "colab": {
     "base_uri": "https://localhost:8080/",
     "height": 1000
    },
    "executionInfo": {
     "elapsed": 3423,
     "status": "ok",
     "timestamp": 1661241170429,
     "user": {
      "displayName": "Ritik Kumar Badiya",
      "userId": "18348089100187237543"
     },
     "user_tz": -330
    },
    "id": "cf48a058",
    "outputId": "31695495-24aa-488a-c112-a75fba3f22ed"
   },
   "outputs": [],
   "source": [
    "fig, axs = plt.subplots(3, 1, constrained_layout=True,figsize=(12,15))\n",
    "fig.suptitle(Name_Of_Firm, fontsize=16)\n",
    "\n",
    "\n",
    "# for Full Data Available\n",
    "axs[0].plot(Information.history(period='max')[['Open']],color='lightblue')\n",
    "axs[0].set_title('Maximum Period')\n",
    "axs[0].set_xlabel('Time')\n",
    "axs[0].set_ylabel('Price Of Stock (INR) ')\n",
    "\n",
    "# for One Year\n",
    "axs[1].plot(Information.history(period='1y')[['Open']],color='orange')\n",
    "axs[1].set_xlabel('Time')\n",
    "axs[1].set_title('One Year')\n",
    "axs[1].set_ylabel('Price Of Stock (INR) ')\n",
    "\n",
    "# for One Month \n",
    "axs[2].plot(Information.history('1mo')[['Open']],color='green')\n",
    "axs[2].set_xlabel('Time')\n",
    "axs[2].set_title('One Month')\n",
    "axs[2].set_ylabel('Price Of Stock (INR) ')\n",
    "#plt.show()"
   ]
  },
  {
   "cell_type": "markdown",
   "id": "f1af4a21",
   "metadata": {
    "id": "f1af4a21"
   },
   "source": [
    "### Understanding Of Data"
   ]
  },
  {
   "cell_type": "code",
   "execution_count": null,
   "id": "c14ce51c",
   "metadata": {
    "colab": {
     "base_uri": "https://localhost:8080/",
     "height": 429
    },
    "executionInfo": {
     "elapsed": 9,
     "status": "ok",
     "timestamp": 1661241170430,
     "user": {
      "displayName": "Ritik Kumar Badiya",
      "userId": "18348089100187237543"
     },
     "user_tz": -330
    },
    "id": "c14ce51c",
    "outputId": "4041ac4a-a355-4abd-a38a-691221b370a6"
   },
   "outputs": [],
   "source": [
    "#Data\n",
    "Data=Information.history(period='max')[['Open']]\n",
    "Data=np.array(Data)[-5000:]\n",
    "\n",
    "scaler=MinMaxScaler(feature_range=(0, 1))\n",
    "scaler=scaler.fit(Data)\n",
    "Data_Normalised=scaler.transform(Data).flatten()\n",
    "Data=Data.flatten()\n",
    "Data_size=Data.size\n",
    "Validation_size=100\n",
    "Time=np.arange(1,Data_size+1)\n",
    "print(f'The size of data set is: {Data_size}')\n",
    "print(f'The size of training data set is: {Data_size-Validation_size}')\n",
    "print(f'The size of validation data set is: {Validation_size}')\n",
    "Data_Dictionary={\n",
    "'Series':Data[:]  ,  \n",
    "'Data_Training':Data[:Data_size-Validation_size],\n",
    "'Data_Validation':Data[Data_size-Validation_size:],\n",
    "'Time_Training':Time[:Data_size-Validation_size],\n",
    "'Time_Validation':Time[Data_size-Validation_size:]\n",
    "}\n",
    "    \n",
    "Data_Normalised_Dictionary={\n",
    "'Series':Data_Normalised[:]  ,  \n",
    "'Data_Training':Data_Normalised[:Data_size-Validation_size],\n",
    "'Data_Validation':Data_Normalised[Data_size-Validation_size:],\n",
    "'Time_Training':Time[:Data_size-Validation_size],\n",
    "'Time_Validation':Time[Data_size-Validation_size:]\n",
    "}    \n",
    "Data_Normalised_Dictionary=Data_Dictionary    \n",
    "#Figure\n",
    "fig=plt.figure(figsize=(10,6))\n",
    "plt.plot(Data_Dictionary['Time_Training'],Data_Dictionary['Data_Training'])\n",
    "plt.plot(Data_Dictionary['Time_Validation'],Data_Dictionary['Data_Validation'])\n",
    "plt.ylabel('Price Of Stock (INR) ')\n",
    "plt.legend(['Training Set','Validation Set'],fontsize=15)\n",
    "plt.show()"
   ]
  },
  {
   "cell_type": "markdown",
   "id": "4ff9862b",
   "metadata": {
    "id": "4ff9862b"
   },
   "source": [
    "### Setting Of Data and Initial Parameters"
   ]
  },
  {
   "cell_type": "code",
   "execution_count": null,
   "id": "14e953d7",
   "metadata": {
    "executionInfo": {
     "elapsed": 975,
     "status": "ok",
     "timestamp": 1661241196818,
     "user": {
      "displayName": "Ritik Kumar Badiya",
      "userId": "18348089100187237543"
     },
     "user_tz": -330
    },
    "id": "14e953d7"
   },
   "outputs": [],
   "source": [
    "window_size=60\n",
    "batch_size=200\n",
    "shuffle_buffer=1000\n",
    "\n",
    "# function for windowing of data set and making of batches\n",
    "def windowed_dataset(data):\n",
    "    dataset = tf.data.Dataset.from_tensor_slices(data)\n",
    "    dataset = dataset.window(window_size+1,shift=1,drop_remainder=True)\n",
    "    dataset = dataset.flat_map(lambda window: window.batch(window_size + 1))        \n",
    "    dataset = dataset.shuffle(shuffle_buffer).map(lambda window: (window[:-1], window[-1]))\n",
    "    dataset = dataset.batch(batch_size).prefetch(1)\n",
    "    return dataset\n"
   ]
  },
  {
   "cell_type": "markdown",
   "id": "8e444dd0",
   "metadata": {
    "id": "8e444dd0"
   },
   "source": [
    "## Model Architecture"
   ]
  },
  {
   "cell_type": "code",
   "execution_count": null,
   "id": "f8b6b663",
   "metadata": {
    "executionInfo": {
     "elapsed": 4189,
     "status": "ok",
     "timestamp": 1661241203890,
     "user": {
      "displayName": "Ritik Kumar Badiya",
      "userId": "18348089100187237543"
     },
     "user_tz": -330
    },
    "id": "f8b6b663"
   },
   "outputs": [],
   "source": [
    "#setting random seed for numpy and tensorflow\n",
    "tf.keras.backend.clear_session()\n",
    "tf.random.set_seed(51)\n",
    "np.random.seed(51)\n",
    "\n",
    "\n",
    "# Halt Calss , Function call after every epoch\n",
    "class haltCallback(tf.keras.callbacks.Callback):\n",
    "    def on_epoch_end(self, epoch, logs={}):\n",
    "        loss_value=1\n",
    "        if(logs.get('loss') <= loss_value):\n",
    "            print(f\"\\n\\n\\nReached {loss_value} loss value so cancelling training!\\n\\n\\n\")\n",
    "            self.model.stop_training = True\n",
    "\n",
    "trainingStopCallback=haltCallback()        \n",
    "            \n",
    "# model\n",
    "model = tf.keras.models.Sequential([\n",
    "          tf.keras.layers.Lambda(lambda x: tf.expand_dims(x, axis=-1),input_shape=[None]),  # Lambda layer for expanding dimention\n",
    "          tf.keras.layers.SimpleRNN(40,return_sequences=True),\n",
    "          tf.keras.layers.SimpleRNN(40,return_sequences=False),\n",
    "          #tf.keras.layers.LSTM(45,activation ='tanh'),\n",
    "          tf.keras.layers.Dense(1),\n",
    "          tf.keras.layers.Lambda(lambda x: x * 100.0)\n",
    "        ])\n",
    "\n",
    "\n",
    "\n",
    "\n",
    "\n",
    "\n",
    "# Optimization and Loss\n",
    "\n",
    "initial_learning_rate = 4e-8\n",
    "decay_steps = 207*1.2\n",
    "decay_rate = 0.5\n",
    "no_of_epoch=200\n",
    "no_of_batch=Data_size//batch_size\n",
    "learning_rate_schedule = tf.keras.optimizers.schedules.InverseTimeDecay(\n",
    "                          initial_learning_rate=initial_learning_rate,\n",
    "                          decay_steps=decay_steps,\n",
    "                          decay_rate=decay_rate)\n",
    "\n",
    "\n",
    "\n",
    "optimizer = tf.keras.optimizers.SGD(learning_rate_schedule,momentum=0.9)     #SGD was old optimizer, momentum was 0.9\n",
    "model.compile(loss=tf.keras.losses.MeanSquaredError() ,                      # earlier it was Huber()\n",
    "                      optimizer=optimizer,\n",
    "                      metrics=[\"mae\"])\n",
    "# Take a look at our Model\n",
    "print(model.summary())\n",
    "plot_model(model, to_file='model_plot.png', show_shapes=True, show_layer_names=True )"
   ]
  },
  {
   "cell_type": "markdown",
   "id": "a3ad1dd6",
   "metadata": {},
   "source": [
    "## Decay In Learning Rate"
   ]
  },
  {
   "cell_type": "code",
   "execution_count": null,
   "id": "188de7b4",
   "metadata": {
    "colab": {
     "base_uri": "https://localhost:8080/",
     "height": 417
    },
    "executionInfo": {
     "elapsed": 960,
     "status": "ok",
     "timestamp": 1661241227635,
     "user": {
      "displayName": "Ritik Kumar Badiya",
      "userId": "18348089100187237543"
     },
     "user_tz": -330
    },
    "id": "188de7b4",
    "outputId": "830f3499-3942-466a-bc46-8f41513788f7"
   },
   "outputs": [],
   "source": [
    "step = np.arange(0,no_of_epoch*no_of_batch)\n",
    "lr = learning_rate_schedule(step)\n",
    "fig=plt.figure(figsize=(10, 6))\n",
    "fig.suptitle('LR vs Epoch')\n",
    "plt.plot(step/no_of_batch,lr)\n",
    "plt.ylabel('Learning Rate')\n",
    "_=plt.xlabel('Epoch Number')"
   ]
  },
  {
   "cell_type": "markdown",
   "id": "3fb4ace3",
   "metadata": {
    "id": "3fb4ace3"
   },
   "source": [
    "### Fitting and Forecasting"
   ]
  },
  {
   "cell_type": "code",
   "execution_count": null,
   "id": "946e6e51",
   "metadata": {
    "colab": {
     "base_uri": "https://localhost:8080/"
    },
    "executionInfo": {
     "elapsed": 839547,
     "status": "ok",
     "timestamp": 1661232780775,
     "user": {
      "displayName": "Ritik Kumar Badiya",
      "userId": "18348089100187237543"
     },
     "user_tz": -330
    },
    "id": "946e6e51",
    "outputId": "eb2d609e-bd73-4a57-b475-2866ff7de28e",
    "scrolled": false
   },
   "outputs": [],
   "source": [
    "tf.keras.backend.clear_session()\n",
    "#tf.random.set_seed(27)\n",
    "#np.random.seed(27)\n",
    "\n",
    "dataset=windowed_dataset(Data_Normalised_Dictionary['Data_Training'])\n",
    "history = model.fit(dataset,epochs=no_of_epoch,callbacks=[trainingStopCallback])"
   ]
  },
  {
   "cell_type": "code",
   "execution_count": null,
   "id": "51ab94c7",
   "metadata": {
    "id": "51ab94c7",
    "scrolled": true
   },
   "outputs": [],
   "source": [
    "#forecasting\n",
    "\n",
    "forecast=[]\n",
    "tmp=Data_Normalised_Dictionary['Series'][-(window_size+Validation_size):]\n",
    "for i in range(Validation_size):\n",
    "    re=model.predict(tmp[i:i+window_size][np.newaxis])\n",
    "    forecast.append(re[0,0])\n",
    "forecast=np.array(forecast)    \n",
    "#forecast=scaler.inverse_transform(forecast.reshape((-1,1))).flatten() \n",
    "\n",
    "    \n"
   ]
  },
  {
   "cell_type": "code",
   "execution_count": null,
   "id": "a2430ce0",
   "metadata": {
    "colab": {
     "base_uri": "https://localhost:8080/",
     "height": 431
    },
    "executionInfo": {
     "elapsed": 999,
     "status": "ok",
     "timestamp": 1661232806772,
     "user": {
      "displayName": "Ritik Kumar Badiya",
      "userId": "18348089100187237543"
     },
     "user_tz": -330
    },
    "id": "a2430ce0",
    "outputId": "144b2cea-ad45-4521-96a4-c1a5d9779312"
   },
   "outputs": [],
   "source": [
    "#figure\n",
    "fig=plt.figure(figsize=(10, 6))\n",
    "fig.suptitle('Prediction Graph')\n",
    "plt.plot(Data_Dictionary['Time_Validation'],forecast)\n",
    "plt.plot(Data_Dictionary['Time_Validation'],Data_Dictionary['Data_Validation'])\n",
    "plt.ylabel('Price Of Stock (INR) ')\n",
    "plt.xlabel('Day Number')\n",
    "\n",
    "plt.legend(['Predicted','Actual'],fontsize=15)\n",
    "plt.show()"
   ]
  },
  {
   "cell_type": "markdown",
   "id": "93c74fd0",
   "metadata": {
    "id": "c32d0f65"
   },
   "source": [
    "## Analysis"
   ]
  },
  {
   "cell_type": "code",
   "execution_count": null,
   "id": "521bece3",
   "metadata": {
    "id": "521bece3"
   },
   "outputs": [],
   "source": []
  },
  {
   "cell_type": "code",
   "execution_count": null,
   "id": "b5e15acb",
   "metadata": {
    "id": "b5e15acb"
   },
   "outputs": [],
   "source": []
  },
  {
   "cell_type": "code",
   "execution_count": null,
   "id": "596e28be",
   "metadata": {},
   "outputs": [],
   "source": []
  }
 ],
 "metadata": {
  "accelerator": "GPU",
  "colab": {
   "name": "code.ipynb",
   "provenance": []
  },
  "gpuClass": "standard",
  "kernelspec": {
   "display_name": "Python 3",
   "language": "python",
   "name": "python3"
  },
  "language_info": {
   "codemirror_mode": {
    "name": "ipython",
    "version": 3
   },
   "file_extension": ".py",
   "mimetype": "text/x-python",
   "name": "python",
   "nbconvert_exporter": "python",
   "pygments_lexer": "ipython3",
   "version": "3.8.8"
  }
 },
 "nbformat": 4,
 "nbformat_minor": 5
}
